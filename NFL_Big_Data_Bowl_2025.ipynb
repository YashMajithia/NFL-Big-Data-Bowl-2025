{
  "nbformat": 4,
  "nbformat_minor": 0,
  "metadata": {
    "colab": {
      "provenance": [],
      "authorship_tag": "ABX9TyNFRy4xn+pQ0b6VNpcnby6l",
      "include_colab_link": true
    },
    "kernelspec": {
      "name": "python3",
      "display_name": "Python 3"
    },
    "language_info": {
      "name": "python"
    }
  },
  "cells": [
    {
      "cell_type": "markdown",
      "metadata": {
        "id": "view-in-github",
        "colab_type": "text"
      },
      "source": [
        "<a href=\"https://colab.research.google.com/github/YashMajithia/NFL-Big-Data-Bowl-2025/blob/main/NFL_Big_Data_Bowl_2025.ipynb\" target=\"_parent\"><img src=\"https://colab.research.google.com/assets/colab-badge.svg\" alt=\"Open In Colab\"/></a>"
      ]
    },
    {
      "cell_type": "markdown",
      "source": [
        "# NFL Pre-Snap to Post-Snap Prediction Project\n",
        "\n",
        "This project leverages NFL tracking and play data to generate actionable insights about pre-snap team tendencies and predict play types (run vs. pass). The analysis focuses on Week 1 data and includes the following components:\n",
        "\n",
        "- **Data Loading & Merging:** Import multiple CSV files and merge them to obtain a unified dataset.\n",
        "- **Feature Engineering:** Extract pre-snap metrics (average speed, acceleration, and distance) from player tracking data.\n",
        "- **Predictive Modeling:** Build a logistic regression model to classify plays as run or pass.\n",
        "- **Team-Wise Analysis:** Analyze team-specific data by filtering based on the possession team, and visualize play type distributions, pre-snap metrics, and offensive formations.\n",
        "\n",
        "## Data Sources\n",
        "\n",
        "The project uses the following CSV files:\n",
        "\n",
        "- **`games.csv`**  \n",
        "  Contains game-level information such as gameId, season, week, gameDate, and final scores.\n",
        "\n",
        "- **`player_play.csv`**  \n",
        "  Contains play-level details for individual players including rushing and passing statistics, tackles, and other in-game events.\n",
        "\n",
        "- **`players.csv`**  \n",
        "  Contains player information like nflId, height, weight, birthDate, collegeName, position, and displayName.\n",
        "\n",
        "- **`plays.csv`**  \n",
        "  Contains play details such as gameId, playId, playDescription, down, yardsToGo, offenseFormation, and more.\n",
        "\n",
        "- **`week1.csv`**  \n",
        "  Contains player tracking data for Week 1 including gameId, playId, nflId, frame details, time, x/y coordinates, speed (`s`), acceleration (`a`), and distance (`dis`).\n",
        "\n",
        "## Project Workflow\n",
        "\n",
        "### 1. Data Loading & Merging\n",
        "\n",
        "- Load the CSV files using `pandas`.\n",
        "- Merge `plays.csv` with `games.csv` to obtain the week information.\n",
        "- Filter the merged dataset to include only Week 1 plays.\n",
        "\n",
        "### 2. Feature Engineering\n",
        "\n",
        "- **Pre-Snap Filtering:**  \n",
        "  Exclude tracking data where the event is `\"ball_snap\"` to isolate pre-snap player movements.\n",
        "\n",
        "- **Aggregated Metrics:**  \n",
        "  Group the pre-snap tracking data by `gameId` and `playId` to compute:\n",
        "  - **Average Speed (`avg_speed`)**\n",
        "  - **Average Acceleration (`avg_acceleration`)**\n",
        "  - **Average Distance (`avg_distance`)**\n",
        "\n",
        "### 3. Merging & Target Variable Creation\n",
        "\n",
        "- Merge the aggregated tracking features with the Week 1 plays data.\n",
        "- Create a binary target variable `play_target` based on the `isDropback` field:\n",
        "  - `1` indicates a pass play (dropback).\n",
        "  - `0` indicates a run play.\n",
        "\n",
        "### 4. Predictive Modeling\n",
        "\n",
        "- **Feature Matrix:**  \n",
        "  Use the aggregated pre-snap metrics and one-hot encoded offensive formations as predictors.\n",
        "\n",
        "- **Model Training:**  \n",
        "  Split the data into training and testing sets. Train a logistic regression model to predict whether a play is a run or a pass.\n",
        "\n",
        "- **Model Evaluation:**  \n",
        "  Calculate accuracy and visualize the confusion matrix.\n",
        "\n",
        "### 5. Team-Wise Analysis\n",
        "\n",
        "- **Team Selection:**  \n",
        "  List available teams based on the `possessionTeam` field and allow the user to select one for detailed analysis.\n",
        "\n",
        "- **Visualizations:**  \n",
        "  For the selected team:\n",
        "  - Plot the play type distribution (run vs. pass).\n",
        "  - Display summary statistics for pre-snap metrics.\n",
        "  - Visualize the distribution of offensive formations.\n",
        "\n",
        "## How to Run the Project\n",
        "\n",
        "1. **Setup:**\n",
        "   - Ensure you have Python 3.x installed.\n",
        "   - Install the required packages using:\n",
        "     ```bash\n",
        "     pip install pandas numpy matplotlib seaborn scikit-learn\n",
        "     ```\n",
        "\n",
        "2. **Place the Data:**\n",
        "   - Make sure the following CSV files are in your working directory:\n",
        "     - `games.csv`\n",
        "     - `player_play.csv`\n",
        "     - `players.csv`\n",
        "     - `plays.csv`\n",
        "     - `week1.csv`\n",
        "\n",
        "3. **Run the Script:**\n",
        "   - Execute the Python script (e.g., `nfl_analysis.py`) using:\n",
        "     ```bash\n",
        "     python nfl_analysis.py\n",
        "     ```\n",
        "\n",
        "4. **Team-Wise Analysis:**\n",
        "   - When prompted, enter the possession team abbreviation to view team-specific insights.\n",
        "\n",
        "## Code Overview\n",
        "\n",
        "Below is a high-level outline of the project code structure:\n",
        "\n",
        "```python\n",
        "# Import libraries\n",
        "import pandas as pd\n",
        "import numpy as np\n",
        "import matplotlib.pyplot as plt\n",
        "import seaborn as sns\n",
        "from sklearn.model_selection import train_test_split\n",
        "from sklearn.linear_model import LogisticRegression\n",
        "from sklearn.metrics import accuracy_score, confusion_matrix\n",
        "\n",
        "# Section 1: Data Loading\n",
        "# - Load CSV files and merge plays with games to filter for Week 1\n",
        "\n",
        "# Section 2: Feature Engineering\n",
        "# - Filter pre-snap tracking data (exclude 'ball_snap' events)\n",
        "# - Group by gameId and playId to compute avg_speed, avg_acceleration, avg_distance\n",
        "\n",
        "# Section 3: Merge and Target Creation\n",
        "# - Merge aggregated metrics with plays data\n",
        "# - Create play_target based on isDropback (pass vs. run)\n",
        "\n",
        "# Section 4: Predictive Modeling\n",
        "# - Prepare feature matrix (including one-hot encoding of offenseFormation)\n",
        "# - Train a logistic regression model and evaluate accuracy\n",
        "# - Plot confusion matrix\n",
        "\n",
        "# Section 5: Team-Wise Analysis\n",
        "# - List teams and prompt user to select a team\n",
        "# - Filter data for the selected team and visualize play type distribution,\n",
        "#   pre-snap metrics, and offensive formation distribution\n"
      ],
      "metadata": {
        "id": "8u3izP0zyc5o"
      }
    },
    {
      "cell_type": "code",
      "source": [
        "!wget https://www.dropbox.com/scl/fi/d2nbckedtb4q7sqhp3lag/nfl-big-data-bowl-2025.zip?rlkey=z4fkb4fk9jm630m9m96xwux04&st=ftfjllzj&dl=1.zip"
      ],
      "metadata": {
        "colab": {
          "base_uri": "https://localhost:8080/"
        },
        "id": "dNWZxbko_YJk",
        "outputId": "33bb5da3-8871-4227-e401-00f444b944e4"
      },
      "execution_count": null,
      "outputs": [
        {
          "output_type": "stream",
          "name": "stdout",
          "text": [
            "--2025-03-09 15:01:31--  https://www.dropbox.com/scl/fi/d2nbckedtb4q7sqhp3lag/nfl-big-data-bowl-2025.zip?rlkey=z4fkb4fk9jm630m9m96xwux04\n",
            "Resolving www.dropbox.com (www.dropbox.com)... 162.125.2.18, 2620:100:6016:18::a27d:112\n",
            "Connecting to www.dropbox.com (www.dropbox.com)|162.125.2.18|:443... connected.\n",
            "HTTP request sent, awaiting response... 302 Found\n",
            "Location: https://uca16e4e35c519c835a763f46d61.dl.dropboxusercontent.com/cd/0/inline/CljH-z9jn2nofSsTBKg5Ojq8paKWMNWixQ-MIUE2cF-KcvjKubE9A4uxvGby9YQOWuk_SK_90T0oBQt0xgYTlByGTJzwIpdEQh-_csFX__yy0RPz3SXJ8yoTtQ30TwRLe2TByF2E7oVmN1P7syyYohcF/file# [following]\n",
            "--2025-03-09 15:01:32--  https://uca16e4e35c519c835a763f46d61.dl.dropboxusercontent.com/cd/0/inline/CljH-z9jn2nofSsTBKg5Ojq8paKWMNWixQ-MIUE2cF-KcvjKubE9A4uxvGby9YQOWuk_SK_90T0oBQt0xgYTlByGTJzwIpdEQh-_csFX__yy0RPz3SXJ8yoTtQ30TwRLe2TByF2E7oVmN1P7syyYohcF/file\n",
            "Resolving uca16e4e35c519c835a763f46d61.dl.dropboxusercontent.com (uca16e4e35c519c835a763f46d61.dl.dropboxusercontent.com)... 162.125.1.15, 2620:100:6016:15::a27d:10f\n",
            "Connecting to uca16e4e35c519c835a763f46d61.dl.dropboxusercontent.com (uca16e4e35c519c835a763f46d61.dl.dropboxusercontent.com)|162.125.1.15|:443... connected.\n",
            "HTTP request sent, awaiting response... 302 Found\n",
            "Location: /cd/0/inline2/Clh6umu79kAs3nt5sBVw9gB6pQo8t5Km4yk8VKka_oZ00PKK_HApLhZF6xDXLgshSz9JxUOugwgs-mnadYMDXTCX1GEvpAp_oejff-b9m5zw63I8mhEbG_XPNz-1ETLcRncO80UAcJq3BHhi-VaRDjJtaQOy6c9tb7J5EMLSUuYCZxbPGKSGPLTFZrItjsUwSefaa1sVMTqxKkw_r5slp3hfu9lg8ZKDsngA8F7QCquFakewd6q6w3epqLxkoiEtw5uJuk9N6FWlFyDAWG7NONLQX59v6RqelKyM8uRSztwa6mYGa4gMtnmCSlkLjIyycYFpFJDA1fSO6Z7oH5E2u3rG8ZvEm8p8xjD4KRfOLfTprYZdPyk5n57a0FQi86_X0Ms/file [following]\n",
            "--2025-03-09 15:01:32--  https://uca16e4e35c519c835a763f46d61.dl.dropboxusercontent.com/cd/0/inline2/Clh6umu79kAs3nt5sBVw9gB6pQo8t5Km4yk8VKka_oZ00PKK_HApLhZF6xDXLgshSz9JxUOugwgs-mnadYMDXTCX1GEvpAp_oejff-b9m5zw63I8mhEbG_XPNz-1ETLcRncO80UAcJq3BHhi-VaRDjJtaQOy6c9tb7J5EMLSUuYCZxbPGKSGPLTFZrItjsUwSefaa1sVMTqxKkw_r5slp3hfu9lg8ZKDsngA8F7QCquFakewd6q6w3epqLxkoiEtw5uJuk9N6FWlFyDAWG7NONLQX59v6RqelKyM8uRSztwa6mYGa4gMtnmCSlkLjIyycYFpFJDA1fSO6Z7oH5E2u3rG8ZvEm8p8xjD4KRfOLfTprYZdPyk5n57a0FQi86_X0Ms/file\n",
            "Reusing existing connection to uca16e4e35c519c835a763f46d61.dl.dropboxusercontent.com:443.\n",
            "HTTP request sent, awaiting response... 200 OK\n",
            "Length: 1213378258 (1.1G) [application/zip]\n",
            "Saving to: ‘nfl-big-data-bowl-2025.zip?rlkey=z4fkb4fk9jm630m9m96xwux04’\n",
            "\n",
            "nfl-big-data-bowl-2 100%[===================>]   1.13G  66.2MB/s    in 13s     \n",
            "\n",
            "2025-03-09 15:01:46 (87.6 MB/s) - ‘nfl-big-data-bowl-2025.zip?rlkey=z4fkb4fk9jm630m9m96xwux04’ saved [1213378258/1213378258]\n",
            "\n"
          ]
        }
      ]
    },
    {
      "cell_type": "code",
      "source": [
        "!unzip nfl-big-data-bowl-2025.zip\\?rlkey\\=z4fkb4fk9jm630m9m96xwux04"
      ],
      "metadata": {
        "colab": {
          "base_uri": "https://localhost:8080/"
        },
        "id": "1qaH474y_saQ",
        "outputId": "30199c63-6310-4cb7-e51e-b0379ea4f726"
      },
      "execution_count": null,
      "outputs": [
        {
          "output_type": "stream",
          "name": "stdout",
          "text": [
            "Archive:  nfl-big-data-bowl-2025.zip?rlkey=z4fkb4fk9jm630m9m96xwux04\n",
            "   creating: nfl-big-data-bowl-2025/\n",
            "  inflating: nfl-big-data-bowl-2025/games.csv  \n",
            "  inflating: nfl-big-data-bowl-2025/players.csv  \n",
            "  inflating: nfl-big-data-bowl-2025/player_play.csv  \n",
            "  inflating: nfl-big-data-bowl-2025/plays.csv  \n",
            "  inflating: nfl-big-data-bowl-2025/tracking_week_1.csv  \n",
            "  inflating: nfl-big-data-bowl-2025/tracking_week_2.csv  \n",
            "  inflating: nfl-big-data-bowl-2025/tracking_week_3.csv  \n",
            "  inflating: nfl-big-data-bowl-2025/tracking_week_4.csv  \n",
            "  inflating: nfl-big-data-bowl-2025/tracking_week_5.csv  \n",
            "  inflating: nfl-big-data-bowl-2025/tracking_week_6.csv  \n",
            "  inflating: nfl-big-data-bowl-2025/tracking_week_7.csv  \n",
            "  inflating: nfl-big-data-bowl-2025/tracking_week_8.csv  \n",
            "  inflating: nfl-big-data-bowl-2025/tracking_week_9.csv  \n"
          ]
        }
      ]
    },
    {
      "cell_type": "code",
      "source": [
        "!ls"
      ],
      "metadata": {
        "colab": {
          "base_uri": "https://localhost:8080/"
        },
        "id": "zj8LdFIRAVww",
        "outputId": "1ca3473c-9ff5-4b61-8c7e-b5bbe94eb371"
      },
      "execution_count": null,
      "outputs": [
        {
          "output_type": "stream",
          "name": "stdout",
          "text": [
            " nfl-big-data-bowl-2025  'nfl-big-data-bowl-2025.zip?rlkey=z4fkb4fk9jm630m9m96xwux04'   sample_data\n"
          ]
        }
      ]
    },
    {
      "cell_type": "code",
      "source": [
        "import pandas as pd\n",
        "import numpy as np\n",
        "import matplotlib.pyplot as plt\n",
        "import seaborn as sns\n",
        "from sklearn.model_selection import train_test_split\n",
        "from sklearn.linear_model import LogisticRegression\n",
        "from sklearn.metrics import accuracy_score, confusion_matrix"
      ],
      "metadata": {
        "id": "8IebpmsLf7EO"
      },
      "execution_count": null,
      "outputs": []
    },
    {
      "cell_type": "code",
      "source": [
        "#Data loading\n",
        "def load_data():\n",
        "  games = pd.read_csv('/content/nfl-big-data-bowl-2025/games.csv')\n",
        "  players = pd.read_csv('/content/nfl-big-data-bowl-2025/players.csv')\n",
        "  plays = pd.read_csv('/content/nfl-big-data-bowl-2025/plays.csv')\n",
        "  player_play = pd.read_csv('/content/nfl-big-data-bowl-2025/player_play.csv')\n",
        "  week1 = pd.read_csv('/content/nfl-big-data-bowl-2025/tracking_week_1.csv')\n",
        "  return games, players, plays, player_play, week1\n",
        "\n",
        "games,players,plays,player_play,week1 = load_data()\n",
        "\n",
        "plays = plays.merge(games[['gameId','week']], on='gameId', how='left')\n",
        "plays_week1 = plays[plays['week'] == 1].copy()\n",
        "\n",
        "print('Sample plays data (week 1):')\n",
        "print(plays_week1.head())"
      ],
      "metadata": {
        "colab": {
          "base_uri": "https://localhost:8080/"
        },
        "id": "4Ipyhc1Nf-O0",
        "outputId": "6af92782-1c72-4a2f-c750-f3f6909dc5a5"
      },
      "execution_count": null,
      "outputs": [
        {
          "output_type": "stream",
          "name": "stdout",
          "text": [
            "Sample plays data (week 1):\n",
            "        gameId  playId                                    playDescription  \\\n",
            "8   2022091104    3662  (12:51) (Shotgun) J.Hurts pass incomplete shor...   \n",
            "12  2022091112    1674  (:35) (Shotgun) A.Rodgers pass deep left inten...   \n",
            "22  2022091111     923  (11:59) J.Herbert pass deep right to K.Allen t...   \n",
            "26  2022091109    3544  (11:04) (Shotgun) C.Wentz pass short right to ...   \n",
            "29  2022091109    2502  (8:54) C.Van Lanen reported in as eligible.  T...   \n",
            "\n",
            "    quarter  down  yardsToGo possessionTeam defensiveTeam yardlineSide  \\\n",
            "8         4     3         12            PHI           DET          PHI   \n",
            "12        2     1         10             GB           MIN           GB   \n",
            "22        2     1         10            LAC            LV          LAC   \n",
            "26        4     2          7            WAS           JAX          WAS   \n",
            "29        3     2          3            JAX           WAS          WAS   \n",
            "\n",
            "    yardlineNumber  ... homeTeamWinProbabilityAdded  \\\n",
            "8               35  ...                    0.012361   \n",
            "12              25  ...                    0.003262   \n",
            "22              47  ...                    0.048007   \n",
            "26              25  ...                   -0.028717   \n",
            "29               3  ...                   -0.027986   \n",
            "\n",
            "    visitorTeamWinProbilityAdded  expectedPointsAdded isDropback  \\\n",
            "8                      -0.012361            -1.161621       True   \n",
            "12                     -0.003262            -1.071627       True   \n",
            "22                     -0.048007             2.483530       True   \n",
            "26                      0.028717            -1.009146       True   \n",
            "29                      0.027986             1.181462       True   \n",
            "\n",
            "    pff_runConceptPrimary  pff_runConceptSecondary  pff_runPassOption  \\\n",
            "8                     NaN                      NaN                  0   \n",
            "12                    NaN                      NaN                  0   \n",
            "22            INSIDE ZONE                      NaN                  0   \n",
            "26           OUTSIDE ZONE                      NaN                  1   \n",
            "29                    MAN                      NaN                  0   \n",
            "\n",
            "    pff_passCoverage pff_manZone week  \n",
            "8            Cover-0         Man    1  \n",
            "12           Cover-2        Zone    1  \n",
            "22           Cover-3        Zone    1  \n",
            "26     Cover-6 Right        Zone    1  \n",
            "29          Red Zone       Other    1  \n",
            "\n",
            "[5 rows x 51 columns]\n"
          ]
        }
      ]
    },
    {
      "cell_type": "code",
      "source": [
        "#Feature engineering from tracking data\n",
        "pre_snap_tracking = week1[week1['event'] != 'ball_snap']\n",
        "\n",
        "agg_features = pre_snap_tracking.groupby(['gameId', 'playId', 'nflId']).agg({\n",
        "    's': 'mean',\n",
        "    'a': 'mean',\n",
        "    'dis': 'mean'\n",
        "}).reset_index()\n",
        "\n",
        "agg_features.rename(columns = {\n",
        "    's' : 'avg_speed',\n",
        "    'a' : 'avg_acceleration',\n",
        "    'dis' : 'avg_distance'\n",
        "}, inplace = True)\n",
        "\n",
        "print(\"\\nAggregated pre snap features:\")\n",
        "print(agg_features.head())"
      ],
      "metadata": {
        "colab": {
          "base_uri": "https://localhost:8080/"
        },
        "id": "Y-SyCngehWf1",
        "outputId": "3dcdb82c-c766-4d21-9169-ca08c76b59bf"
      },
      "execution_count": null,
      "outputs": [
        {
          "output_type": "stream",
          "name": "stdout",
          "text": [
            "\n",
            "Aggregated pre snap features:\n",
            "       gameId  playId    nflId  avg_speed  avg_acceleration  avg_distance\n",
            "0  2022090800      56  35472.0   0.486597          0.435131      0.050576\n",
            "1  2022090800      56  38577.0   0.737277          0.794084      0.074188\n",
            "2  2022090800      56  41239.0   0.913194          0.724136      0.095393\n",
            "3  2022090800      56  42392.0   0.496806          0.385288      0.053717\n",
            "4  2022090800      56  42489.0   2.279005          1.429738      0.228429\n"
          ]
        }
      ]
    },
    {
      "cell_type": "code",
      "source": [
        "#Managing and creating the target variable\n",
        "plays_feature = plays_week1.merge(agg_features, on=['gameId','playId'], how='left')\n",
        "\n",
        "plays_feature['play_target'] = plays_feature['isDropback'].apply(\n",
        "    lambda x: 1 if (x == 1 or x is True) else 0\n",
        ")\n",
        "\n",
        "print(\"\\nPlays with pre-snap features and target variable:\")\n",
        "print(plays_feature[['gameId', 'playId', 'possessionTeam', 'offenseFormation',\n",
        "                      'avg_speed', 'avg_acceleration', 'avg_distance', 'play_target']].head())"
      ],
      "metadata": {
        "colab": {
          "base_uri": "https://localhost:8080/"
        },
        "id": "Od0TYqb3pewp",
        "outputId": "3119f53f-eb54-48e0-ee99-a70c20c9515a"
      },
      "execution_count": null,
      "outputs": [
        {
          "output_type": "stream",
          "name": "stdout",
          "text": [
            "\n",
            "Plays with pre-snap features and target variable:\n",
            "       gameId  playId possessionTeam offenseFormation  avg_speed  \\\n",
            "0  2022091104    3662            PHI          SHOTGUN   0.766154   \n",
            "1  2022091104    3662            PHI          SHOTGUN   0.921923   \n",
            "2  2022091104    3662            PHI          SHOTGUN   0.602000   \n",
            "3  2022091104    3662            PHI          SHOTGUN   0.710231   \n",
            "4  2022091104    3662            PHI          SHOTGUN   0.736077   \n",
            "\n",
            "   avg_acceleration  avg_distance  play_target  \n",
            "0          0.472000      0.080077            1  \n",
            "1          0.610615      0.096000            1  \n",
            "2          0.515154      0.062769            1  \n",
            "3          0.914538      0.071538            1  \n",
            "4          0.917615      0.074923            1  \n"
          ]
        }
      ]
    },
    {
      "cell_type": "code",
      "source": [
        "#Predictive modelling (Run vs Pass)\n",
        "features = ['avg_speed', 'avg_acceleration', 'avg_distance']\n",
        "\n",
        "model_data = plays_feature.dropna(subset=features+['offenseFormation','play_target']).copy()\n",
        "\n",
        "formation_dummies = pd.get_dummies(model_data['offenseFormation'], prefix='offenseFormation')\n",
        "X = pd.concat([model_data[features], formation_dummies], axis=1)\n",
        "y = model_data['play_target']\n",
        "\n",
        "X_train, X_test, y_train, y_test = train_test_split(X, y, test_size=0.3, random_state=42)\n",
        "\n",
        "model = LogisticRegression(max_iter=200)\n",
        "model.fit(X_train, y_train)\n",
        "y_pred = model.predict(X_test)\n",
        "\n",
        "accuracy = accuracy_score(y_test, y_pred)\n",
        "print(\"\\nModel Accuracy: {:.2f}\".format(accuracy))\n",
        "\n",
        "\n",
        "cm = confusion_matrix(y_test, y_pred)\n",
        "plt.figure(figsize=(6, 4))\n",
        "sns.heatmap(cm, annot=True, fmt=\"d\", cmap=\"Blues\")\n",
        "plt.xlabel(\"Predicted\")\n",
        "plt.ylabel(\"Actual\")\n",
        "plt.title(\"Confusion Matrix\")\n",
        "plt.show()"
      ],
      "metadata": {
        "colab": {
          "base_uri": "https://localhost:8080/",
          "height": 445
        },
        "id": "WJj2THacr6bc",
        "outputId": "f5d1620a-c017-48e7-97a9-94412046b48d"
      },
      "execution_count": null,
      "outputs": [
        {
          "output_type": "stream",
          "name": "stdout",
          "text": [
            "\n",
            "Model Accuracy: 0.74\n"
          ]
        },
        {
          "output_type": "display_data",
          "data": {
            "text/plain": [
              "<Figure size 600x400 with 2 Axes>"
            ],
            "image/png": "[encoded data removed]"
          },
          "metadata": {}
        }
      ]
    },
    {
      "cell_type": "code",
      "source": [
        "#Team wise analysis\n",
        "teams = plays_feature['possessionTeam'].unique()\n",
        "print(\"\\nAvailable Teams (possessionTeam):\", teams)\n",
        "\n",
        "# Let user select a team via console input\n",
        "selected_team = input(\"Enter the possession team abbreviation for analysis: \")\n",
        "\n",
        "\n",
        "team_data = plays_feature[plays_feature['possessionTeam'] == selected_team]\n",
        "\n",
        "print(f\"\\nAnalysis for Team: {selected_team}\")\n",
        "print(\"Sample Data for the Selected Team:\")\n",
        "print(team_data.head())\n",
        "\n",
        "\n",
        "team_play_distribution = team_data['play_target'].value_counts().rename(index={0: \"Run\", 1: \"Pass\"})\n",
        "print(\"\\nPlay Type Distribution:\")\n",
        "print(team_play_distribution)\n",
        "\n",
        "plt.figure(figsize=(6, 4))\n",
        "sns.barplot(x=team_play_distribution.index, y=team_play_distribution.values, palette=\"viridis\")\n",
        "plt.title(f\"Play Type Distribution for {selected_team}\")\n",
        "plt.xlabel(\"Play Type\")\n",
        "plt.ylabel(\"Count\")\n",
        "plt.show()\n",
        "\n",
        "\n",
        "print(\"\\nPre-snap Metrics Summary for the Selected Team:\")\n",
        "team_metrics = team_data[['avg_speed', 'avg_acceleration', 'avg_distance']].describe().loc[['mean', 'std']]\n",
        "print(team_metrics)\n",
        "\n",
        "\n",
        "if 'offenseFormation' in team_data.columns:\n",
        "    formation_counts = team_data['offenseFormation'].value_counts()\n",
        "    print(\"\\nOffensive Formation Distribution for the Selected Team:\")\n",
        "    print(formation_counts)\n",
        "\n",
        "    plt.figure(figsize=(6, 4))\n",
        "    sns.barplot(x=formation_counts.index, y=formation_counts.values, palette=\"rocket\")\n",
        "    plt.title(f\"Offensive Formation Distribution for {selected_team}\")\n",
        "    plt.xlabel(\"Offense Formation\")\n",
        "    plt.ylabel(\"Count\")\n",
        "    plt.xticks(rotation=45)\n",
        "    plt.show()"
      ],
      "metadata": {
        "colab": {
          "base_uri": "https://localhost:8080/",
          "height": 1000
        },
        "id": "Jaeny1FKwahR",
        "outputId": "07a9ce84-16b6-4884-eee4-7157cbb626cb"
      },
      "execution_count": null,
      "outputs": [
        {
          "output_type": "stream",
          "name": "stdout",
          "text": [
            "\n",
            "Available Teams (possessionTeam): ['PHI' 'GB' 'LAC' 'WAS' 'JAX' 'BAL' 'IND' 'DET' 'CAR' 'MIA' 'LV' 'KC'\n",
            " 'NYJ' 'DAL' 'NO' 'CHI' 'ARI' 'PIT' 'TB' 'CLE' 'NYG' 'TEN' 'CIN' 'SEA'\n",
            " 'HOU' 'NE' 'BUF' 'LA' 'SF' 'ATL' 'DEN' 'MIN']\n",
            "Enter the possession team abbreviation for analysis: PHI\n",
            "\n",
            "Analysis for Team: PHI\n",
            "Sample Data for the Selected Team:\n",
            "       gameId  playId                                    playDescription  \\\n",
            "0  2022091104    3662  (12:51) (Shotgun) J.Hurts pass incomplete shor...   \n",
            "1  2022091104    3662  (12:51) (Shotgun) J.Hurts pass incomplete shor...   \n",
            "2  2022091104    3662  (12:51) (Shotgun) J.Hurts pass incomplete shor...   \n",
            "3  2022091104    3662  (12:51) (Shotgun) J.Hurts pass incomplete shor...   \n",
            "4  2022091104    3662  (12:51) (Shotgun) J.Hurts pass incomplete shor...   \n",
            "\n",
            "   quarter  down  yardsToGo possessionTeam defensiveTeam yardlineSide  \\\n",
            "0        4     3         12            PHI           DET          PHI   \n",
            "1        4     3         12            PHI           DET          PHI   \n",
            "2        4     3         12            PHI           DET          PHI   \n",
            "3        4     3         12            PHI           DET          PHI   \n",
            "4        4     3         12            PHI           DET          PHI   \n",
            "\n",
            "   yardlineNumber  ... pff_runConceptSecondary  pff_runPassOption  \\\n",
            "0              35  ...                     NaN                  0   \n",
            "1              35  ...                     NaN                  0   \n",
            "2              35  ...                     NaN                  0   \n",
            "3              35  ...                     NaN                  0   \n",
            "4              35  ...                     NaN                  0   \n",
            "\n",
            "   pff_passCoverage pff_manZone  week    nflId  avg_speed  avg_acceleration  \\\n",
            "0           Cover-0         Man     1  37266.0   0.766154          0.472000   \n",
            "1           Cover-0         Man     1  39950.0   0.921923          0.610615   \n",
            "2           Cover-0         Man     1  43368.0   0.602000          0.515154   \n",
            "3           Cover-0         Man     1  44834.0   0.710231          0.914538   \n",
            "4           Cover-0         Man     1  44888.0   0.736077          0.917615   \n",
            "\n",
            "  avg_distance play_target  \n",
            "0     0.080077           1  \n",
            "1     0.096000           1  \n",
            "2     0.062769           1  \n",
            "3     0.071538           1  \n",
            "4     0.074923           1  \n",
            "\n",
            "[5 rows x 56 columns]\n",
            "\n",
            "Play Type Distribution:\n",
            "play_target\n",
            "Pass    924\n",
            "Run     616\n",
            "Name: count, dtype: int64\n"
          ]
        },
        {
          "output_type": "stream",
          "name": "stderr",
          "text": [
            "<ipython-input-17-43913a1330d9>:21: FutureWarning: \n",
            "\n",
            "Passing `palette` without assigning `hue` is deprecated and will be removed in v0.14.0. Assign the `x` variable to `hue` and set `legend=False` for the same effect.\n",
            "\n",
            "  sns.barplot(x=team_play_distribution.index, y=team_play_distribution.values, palette=\"viridis\")\n"
          ]
        },
        {
          "output_type": "display_data",
          "data": {
            "text/plain": [
              "<Figure size 600x400 with 1 Axes>"
            ],
            "image/png": "[encoded data removed]"
          },
          "metadata": {}
        },
        {
          "output_type": "stream",
          "name": "stdout",
          "text": [
            "\n",
            "Pre-snap Metrics Summary for the Selected Team:\n",
            "      avg_speed  avg_acceleration  avg_distance\n",
            "mean   1.180986          0.861035      0.120152\n",
            "std    0.569683          0.335389      0.056489\n",
            "\n",
            "Offensive Formation Distribution for the Selected Team:\n",
            "offenseFormation\n",
            "SHOTGUN       1276\n",
            "PISTOL          88\n",
            "EMPTY           88\n",
            "I_FORM          22\n",
            "SINGLEBACK      22\n",
            "JUMBO           22\n",
            "Name: count, dtype: int64\n"
          ]
        },
        {
          "output_type": "stream",
          "name": "stderr",
          "text": [
            "<ipython-input-17-43913a1330d9>:39: FutureWarning: \n",
            "\n",
            "Passing `palette` without assigning `hue` is deprecated and will be removed in v0.14.0. Assign the `x` variable to `hue` and set `legend=False` for the same effect.\n",
            "\n",
            "  sns.barplot(x=formation_counts.index, y=formation_counts.values, palette=\"rocket\")\n"
          ]
        },
        {
          "output_type": "display_data",
          "data": {
            "text/plain": [
              "<Figure size 600x400 with 1 Axes>"
            ],
            "image/png": "[encoded data removed]"
          },
          "metadata": {}
        }
      ]
    }
  ]
}